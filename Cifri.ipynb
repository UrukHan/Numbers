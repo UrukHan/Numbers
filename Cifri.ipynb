{
  "nbformat": 4,
  "nbformat_minor": 0,
  "metadata": {
    "colab": {
      "name": "Cifri",
      "provenance": [],
      "authorship_tag": "ABX9TyPBSpmMiyjzxnmvuDM4kBfj",
      "include_colab_link": true
    },
    "kernelspec": {
      "name": "python3",
      "display_name": "Python 3"
    }
  },
  "cells": [
    {
      "cell_type": "markdown",
      "metadata": {
        "id": "view-in-github",
        "colab_type": "text"
      },
      "source": [
        "<a href=\"https://colab.research.google.com/github/UrukHan/Numbers/blob/main/Cifri.ipynb\" target=\"_parent\"><img src=\"https://colab.research.google.com/assets/colab-badge.svg\" alt=\"Open In Colab\"/></a>"
      ]
    },
    {
      "cell_type": "code",
      "metadata": {
        "id": "mTRCRxsqQPtI"
      },
      "source": [
        "import numpy as np\n",
        "import argparse\n",
        "import imutils\n",
        "import json\n",
        "import inspect\n",
        "import matplotlib.pyplot as plt\n",
        "%matplotlib inline "
      ],
      "execution_count": null,
      "outputs": []
    },
    {
      "cell_type": "code",
      "metadata": {
        "id": "3XAM8taMbQM9"
      },
      "source": [
        "import numpy as np\n",
        "import os\n",
        "import cv2\n",
        "import pickle\n",
        "import matplotlib.pyplot as plt\n",
        "%matplotlib inline "
      ],
      "execution_count": 170,
      "outputs": []
    },
    {
      "cell_type": "code",
      "metadata": {
        "id": "d9I7amwgdgD7"
      },
      "source": [
        "\"\"\"nullC = []\n",
        "numbers = {}\"\"\""
      ],
      "execution_count": null,
      "outputs": []
    },
    {
      "cell_type": "code",
      "metadata": {
        "id": "vVDr8PjTatLt",
        "outputId": "6dcb7512-7900-4229-ce8f-25136271fb87",
        "colab": {
          "base_uri": "https://localhost:8080/",
          "height": 35
        }
      },
      "source": [
        "\"\"\"cifr = cv2.imread('/content/9-18.jpg')\n",
        "gCifr = cv2.cvtColor(cifr, cv2.COLOR_BGR2GRAY)\n",
        "nineC.append(gCifr)\n",
        "plt.imshow(gCifr)\n",
        "plt.show()\"\"\""
      ],
      "execution_count": 143,
      "outputs": [
        {
          "output_type": "execute_result",
          "data": {
            "application/vnd.google.colaboratory.intrinsic+json": {
              "type": "string"
            },
            "text/plain": [
              "\"cifr = cv2.imread('/content/9-18.jpg')\\ngCifr = cv2.cvtColor(cifr, cv2.COLOR_BGR2GRAY)\\nnineC.append(gCifr)\\nplt.imshow(gCifr)\\nplt.show()\""
            ]
          },
          "metadata": {
            "tags": []
          },
          "execution_count": 143
        }
      ]
    },
    {
      "cell_type": "code",
      "metadata": {
        "id": "rQ8d_Lfge8Dn",
        "outputId": "4e881cd3-0188-4efb-ae9e-7d6e663c957c",
        "colab": {
          "base_uri": "https://localhost:8080/",
          "height": 265
        }
      },
      "source": [
        "plt.imshow(numbers['1'][8])\n",
        "plt.show()"
      ],
      "execution_count": 147,
      "outputs": [
        {
          "output_type": "display_data",
          "data": {
            "image/png": "[encoded data removed]",
            "text/plain": [
              "<Figure size 432x288 with 1 Axes>"
            ]
          },
          "metadata": {
            "tags": [],
            "needs_background": "light"
          }
        }
      ]
    },
    {
      "cell_type": "code",
      "metadata": {
        "id": "2r8CGu6Fe8BI"
      },
      "source": [
        "\"\"\"with open(\"numbers.pkl\", \"wb\") as f:  \n",
        "  pickle.dump(numbers, f)\"\"\""
      ],
      "execution_count": null,
      "outputs": []
    },
    {
      "cell_type": "code",
      "metadata": {
        "id": "MsnGt-VTde4U"
      },
      "source": [
        "with open('numbers.pkl', 'rb') as f:\n",
        "  numbers = pickle.load(f)"
      ],
      "execution_count": 171,
      "outputs": []
    },
    {
      "cell_type": "code",
      "metadata": {
        "id": "CmJNlwyQnPnT",
        "outputId": "45780813-0140-40f5-f917-9381c6207245",
        "colab": {
          "base_uri": "https://localhost:8080/",
          "height": 268
        }
      },
      "source": [
        "nine = cv2.imread('/content/nine.jpg')\n",
        "nine = cv2.cvtColor(nine, cv2.COLOR_BGR2GRAY)\n",
        "ret, nine = cv2.threshold(nine, 127, 255, cv2.THRESH_BINARY)\n",
        "plt.imshow(nine, cmap = 'gray', interpolation = 'bicubic')\n",
        "plt.show()"
      ],
      "execution_count": 235,
      "outputs": [
        {
          "output_type": "display_data",
          "data": {
            "image/png": "[encoded data removed]",
            "text/plain": [
              "<Figure size 432x288 with 1 Axes>"
            ]
          },
          "metadata": {
            "tags": [],
            "needs_background": "light"
          }
        }
      ]
    },
    {
      "cell_type": "code",
      "metadata": {
        "id": "ovi7OlJ6nPsb",
        "outputId": "af891bfb-231a-4fe0-b5a5-59172890bba1",
        "colab": {
          "base_uri": "https://localhost:8080/",
          "height": 34
        }
      },
      "source": [
        "maximum = 0\n",
        "for k in numbers.keys():\n",
        "  for i in numbers[k]:\n",
        "    result = cv2.matchTemplate(nine, i, cv2.TM_CCOEFF_NORMED)\n",
        "    (max_val, max_val, minLoc, maxLoc) = cv2.minMaxLoc(result) \n",
        "    if max_val > maximum:\n",
        "      maximum = max_val\n",
        "      resultNumb = k\n",
        "print(k)"
      ],
      "execution_count": 202,
      "outputs": [
        {
          "output_type": "stream",
          "text": [
            "9\n"
          ],
          "name": "stdout"
        }
      ]
    },
    {
      "cell_type": "code",
      "metadata": {
        "id": "K33ap8hCt2Sa",
        "outputId": "ebd6e1c0-c70c-41b7-eecd-f0dd0f00f203",
        "colab": {
          "base_uri": "https://localhost:8080/",
          "height": 269
        }
      },
      "source": [
        "nums = cv2.imread('/content/nums.jpg')\n",
        "nums = cv2.cvtColor(nums, cv2.COLOR_BGR2GRAY)\n",
        "ret, nums = cv2.threshold(nums, 127, 255, cv2.THRESH_BINARY)\n",
        "plt.imshow(nums, cmap = 'gray', interpolation = 'bicubic')\n",
        "plt.show()"
      ],
      "execution_count": 234,
      "outputs": [
        {
          "output_type": "display_data",
          "data": {
            "image/png": "[encoded data removed]",
            "text/plain": [
              "<Figure size 432x288 with 1 Axes>"
            ]
          },
          "metadata": {
            "tags": [],
            "needs_background": "light"
          }
        }
      ]
    },
    {
      "cell_type": "code",
      "metadata": {
        "id": "yOgtD8UUnQIE",
        "outputId": "d554ec8f-e8fd-44c5-f79c-3fef5b89bab6",
        "colab": {
          "base_uri": "https://localhost:8080/",
          "height": 102
        }
      },
      "source": [
        "for k in numbers.keys():\n",
        "  maximum = 0\n",
        "  for i in numbers[k]:\n",
        "    ret, i = cv2.threshold(i, 127, 255, cv2.THRESH_BINARY)\n",
        "    result = cv2.matchTemplate(nums, i, cv2.TM_CCOEFF)\n",
        "    (max_val, max_val, minLoc, maxLoc) = cv2.minMaxLoc(result) \n",
        "    if max_val > maximum:\n",
        "      maximum = max_val\n",
        "      resultNumb = k\n",
        "  if maximum > 1400000:\n",
        "    print(k)"
      ],
      "execution_count": 249,
      "outputs": [
        {
          "output_type": "stream",
          "text": [
            "2\n",
            "3\n",
            "4\n",
            "7\n",
            "9\n"
          ],
          "name": "stdout"
        }
      ]
    },
    {
      "cell_type": "code",
      "metadata": {
        "id": "cjVoSDxratHH"
      },
      "source": [
        ""
      ],
      "execution_count": 167,
      "outputs": []
    },
    {
      "cell_type": "code",
      "metadata": {
        "id": "oijHE2r0v5Ua"
      },
      "source": [
        ""
      ],
      "execution_count": null,
      "outputs": []
    },
    {
      "cell_type": "code",
      "metadata": {
        "id": "nmH2E55zv5Z0"
      },
      "source": [
        ""
      ],
      "execution_count": null,
      "outputs": []
    },
    {
      "cell_type": "code",
      "metadata": {
        "id": "laqK2F6-v5dC"
      },
      "source": [
        ""
      ],
      "execution_count": null,
      "outputs": []
    },
    {
      "cell_type": "code",
      "metadata": {
        "id": "02ll0QX6v5XT"
      },
      "source": [
        ""
      ],
      "execution_count": null,
      "outputs": []
    },
    {
      "cell_type": "code",
      "metadata": {
        "id": "uJaO7Q1RpA9j"
      },
      "source": [
        ""
      ],
      "execution_count": null,
      "outputs": []
    }
  ]
}